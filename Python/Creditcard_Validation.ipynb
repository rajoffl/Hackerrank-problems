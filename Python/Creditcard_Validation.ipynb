{
  "nbformat": 4,
  "nbformat_minor": 0,
  "metadata": {
    "colab": {
      "name": "Creditcard Validation.ipynb",
      "provenance": [],
      "collapsed_sections": []
    },
    "kernelspec": {
      "name": "python3",
      "display_name": "Python 3"
    },
    "language_info": {
      "name": "python"
    }
  },
  "cells": [
    {
      "cell_type": "code",
      "metadata": {
        "id": "yXymLICxylcZ"
      },
      "source": [
        "def isValid(x):\n",
        "    if len(x) not in [16,19]:2365\n",
        "        return False\n",
        "    if len(x)==19:\n",
        "        if x[4]!='-' or x[9]!='-' or x[14]!='-':\n",
        "            return False\n",
        "    if x[0] not in ['4','5','6']:\n",
        "        return False\n",
        "    if '-' in x:\n",
        "        x=''.join(x.split('-'))\n",
        "    if any(ord(x[i]) not in range(ord('0'),ord('9')+1) for i in range(16)):\n",
        "        return False\n",
        "    if any(str(i)*4 in x for i in range(10)):\n",
        "        return False\n",
        "    return True\n",
        "for _ in range(int(input())):\n",
        "    x=input()\n",
        "    if isValid(x):\n",
        "        print(\"Valid\")\n",
        "    else:\n",
        "        print(\"Invalid\")"
      ],
      "execution_count": null,
      "outputs": []
    }
  ]
}