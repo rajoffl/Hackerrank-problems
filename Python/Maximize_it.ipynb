{
  "nbformat": 4,
  "nbformat_minor": 0,
  "metadata": {
    "colab": {
      "name": "Maximize it.ipynb",
      "provenance": [],
      "collapsed_sections": []
    },
    "kernelspec": {
      "name": "python3",
      "display_name": "Python 3"
    },
    "language_info": {
      "name": "python"
    }
  },
  "cells": [
    {
      "cell_type": "code",
      "metadata": {
        "id": "yXymLICxylcZ"
      },
      "source": [
        "def func(temp,l):\n",
        "    global m_sum,m\n",
        "    if len(l)==0:\n",
        "        if temp>m_sum: m_sum = temp%m\n",
        "        return\n",
        "    for i in range(len(l[0])):\n",
        "        crap = ((temp%m)+((l[0][i]**2)%m))%m\n",
        "        func(crap,l[1:])\n",
        "        \n",
        "k,m = map(int,raw_input().split())\n",
        "l = []\n",
        "for _ in range(k):\n",
        "    l.append(map(int,raw_input().split())[1:])\n",
        "\n",
        "m_sum = 0\n",
        "temp = 0\n",
        "for i in range(len(l[0])):\n",
        "    temp = (l[0][i]**2)%m\n",
        "    func(temp,l[1:])\n",
        "    \n",
        "print m_sum"
      ],
      "execution_count": null,
      "outputs": []
    }
  ]
}