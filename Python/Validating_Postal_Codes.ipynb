{
  "nbformat": 4,
  "nbformat_minor": 0,
  "metadata": {
    "colab": {
      "name": "Validating Postal Codes.ipynb",
      "provenance": []
    },
    "kernelspec": {
      "name": "python3",
      "display_name": "Python 3"
    },
    "language_info": {
      "name": "python"
    }
  },
  "cells": [
    {
      "cell_type": "code",
      "metadata": {
        "colab": {
          "base_uri": "https://localhost:8080/"
        },
        "id": "7onC_DlTvWkE",
        "outputId": "e0670bae-1eb7-412a-8ad0-d15beeb4d051"
      },
      "source": [
        "import sys\n",
        "\n",
        "stdin = sys.stdin\n",
        "\n",
        "import re\n",
        "line = stdin.readline().strip()\n",
        "print(re.match(\"^[1-9][0-9]{5}$\", line) != None and [ord(line[i]) - ord(line[i+2]) for i in range(4)].count(0) <= 1)"
      ],
      "execution_count": 1,
      "outputs": [
        {
          "output_type": "stream",
          "text": [
            "False\n"
          ],
          "name": "stdout"
        }
      ]
    }
  ]
}